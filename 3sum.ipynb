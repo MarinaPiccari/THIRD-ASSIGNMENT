{
 "cells": [
  {
   "cell_type": "markdown",
   "metadata": {},
   "source": [
    "# 3 sum\n",
    "#### Marina Piccari\n",
    "#### 1904900"
   ]
  },
  {
   "cell_type": "code",
   "execution_count": null,
   "metadata": {},
   "outputs": [],
   "source": [
    "def twosum(lst, t):\n",
    "    D = {}\n",
    "    for i in range(len(lst)):\n",
    "        if lst[i] in D:\n",
    "            return (D[lst[i]]+1, i+1)\n",
    "        else:\n",
    "            D[t-lst[i]] = i\n",
    "    return -1\n",
    "\n",
    "def threesum(lst):\n",
    "    for i in range(len(lst)):\n",
    "        new = twosum(lst[i+1:], -lst[i])\n",
    "        if new != -1:\n",
    "            j = [i+1, i+1+new[0], i+1+new[1]]\n",
    "            return j\n",
    "    return [-1]\n",
    "\n",
    "with open('rosalind_3sum.txt', 'r') as f:\n",
    "    k, n = map(int, f.readline().split())\n",
    "    for x in range(k):          \n",
    "        A = list(map(int, f.readline().split()))\n",
    "        print (*threesum(A))"
   ]
  }
 ],
 "metadata": {
  "kernelspec": {
   "display_name": "Python 3",
   "language": "python",
   "name": "python3"
  },
  "language_info": {
   "codemirror_mode": {
    "name": "ipython",
    "version": 3
   },
   "file_extension": ".py",
   "mimetype": "text/x-python",
   "name": "python",
   "nbconvert_exporter": "python",
   "pygments_lexer": "ipython3",
   "version": "3.8.3"
  }
 },
 "nbformat": 4,
 "nbformat_minor": 4
}
