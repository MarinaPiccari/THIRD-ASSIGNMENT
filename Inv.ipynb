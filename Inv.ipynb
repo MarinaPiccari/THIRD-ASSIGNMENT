{
 "cells": [
  {
   "cell_type": "markdown",
   "metadata": {},
   "source": [
    "# Counting inversions\n",
    "#### Marina Piccari\n",
    "#### 1904900"
   ]
  },
  {
   "cell_type": "code",
   "execution_count": null,
   "metadata": {},
   "outputs": [],
   "source": [
    "def count_inversions(lst):\n",
    "    n = len(lst)\n",
    "    if n == 1:\n",
    "        return lst, 0\n",
    "    la = lst[:(n//2)]\n",
    "    ra = lst[(n//2):]\n",
    "    \n",
    "    la, x = count_inversions(la)\n",
    "    ra, y = count_inversions(ra)\n",
    "    L = []\n",
    "    \n",
    "    c = 0\n",
    "    d = 0\n",
    "    inv = 0 + x + y\n",
    "    \n",
    "    while len(la) > c and len(ra) > d:\n",
    "        if la[c] <= ra[d]:\n",
    "            L.append(la[c])\n",
    "            c += 1\n",
    "        else:\n",
    "            L.append(ra[d])\n",
    "            d += 1\n",
    "            inv += (len(la)-c)\n",
    "    L += la[c:]\n",
    "    L += ra[d:]\n",
    "    \n",
    "    return L, inv\n",
    "\n",
    "with open('rosalind_inv.txt', 'r') as f:\n",
    "        n = int(f.readline())\n",
    "        A = list(map(int, f.readline().split()))\n",
    "        result, inversions = (count_inversions(A))\n",
    "        print (inversions)"
   ]
  }
 ],
 "metadata": {
  "kernelspec": {
   "display_name": "Python 3",
   "language": "python",
   "name": "python3"
  },
  "language_info": {
   "codemirror_mode": {
    "name": "ipython",
    "version": 3
   },
   "file_extension": ".py",
   "mimetype": "text/x-python",
   "name": "python",
   "nbconvert_exporter": "python",
   "pygments_lexer": "ipython3",
   "version": "3.8.3"
  }
 },
 "nbformat": 4,
 "nbformat_minor": 4
}
