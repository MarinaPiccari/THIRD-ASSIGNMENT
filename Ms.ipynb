{
 "cells": [
  {
   "cell_type": "markdown",
   "metadata": {},
   "source": [
    "# Merge sort\n",
    "#### Marina Piccari\n",
    "#### 1904900"
   ]
  },
  {
   "cell_type": "code",
   "execution_count": null,
   "metadata": {},
   "outputs": [],
   "source": [
    "def merge_sort(lst):\n",
    "    n = len(lst)\n",
    "    if n == 1:\n",
    "        return lst\n",
    "    la = lst[:(n//2)]\n",
    "    ra = lst[(n//2):]\n",
    "    \n",
    "    la = merge_sort(la)\n",
    "    ra = merge_sort(ra)\n",
    "    L = []\n",
    "    \n",
    "    c = 0\n",
    "    d = 0\n",
    "    \n",
    "    while len(la) > c and len(ra) > d:\n",
    "        if la[c] <= ra[d]:\n",
    "            L.append(la[c])\n",
    "            c += 1\n",
    "        else:\n",
    "            L.append(ra[d])\n",
    "            d += 1\n",
    "    L += la[c:]\n",
    "    L += ra[d:]\n",
    "    \n",
    "    return L\n",
    "\n",
    "with open('rosalind_ms.txt', 'r') as f:\n",
    "        n = int(f.readline())\n",
    "        A = list(map(int, f.readline().split()))\n",
    "        result = (merge_sort(A))\n",
    "        print (*result)"
   ]
  }
 ],
 "metadata": {
  "kernelspec": {
   "display_name": "Python 3",
   "language": "python",
   "name": "python3"
  },
  "language_info": {
   "codemirror_mode": {
    "name": "ipython",
    "version": 3
   },
   "file_extension": ".py",
   "mimetype": "text/x-python",
   "name": "python",
   "nbconvert_exporter": "python",
   "pygments_lexer": "ipython3",
   "version": "3.8.3"
  }
 },
 "nbformat": 4,
 "nbformat_minor": 4
}
