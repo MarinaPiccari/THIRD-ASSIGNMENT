{
 "cells": [
  {
   "cell_type": "markdown",
   "metadata": {},
   "source": [
    "# Majority element\n",
    "#### Marina Piccari\n",
    "#### 1904900"
   ]
  },
  {
   "cell_type": "code",
   "execution_count": null,
   "metadata": {},
   "outputs": [],
   "source": [
    "with open('rosalind_maj.txt', 'r') as f:\n",
    "    L = []\n",
    "    k, n = map(int, f.readline().split())\n",
    "    for x in range(k):          \n",
    "        arr = list(map(int, f.readline().split()))\n",
    "        for el in arr:\n",
    "            c = arr.count(el)\n",
    "            if c > n/2 and el not in L:\n",
    "                L.append(el)\n",
    "        if x != len(L)-1:\n",
    "            L.append(-1)\n",
    "    print (*L)"
   ]
  }
 ],
 "metadata": {
  "kernelspec": {
   "display_name": "Python 3",
   "language": "python",
   "name": "python3"
  },
  "language_info": {
   "codemirror_mode": {
    "name": "ipython",
    "version": 3
   },
   "file_extension": ".py",
   "mimetype": "text/x-python",
   "name": "python",
   "nbconvert_exporter": "python",
   "pygments_lexer": "ipython3",
   "version": "3.8.3"
  }
 },
 "nbformat": 4,
 "nbformat_minor": 4
}
