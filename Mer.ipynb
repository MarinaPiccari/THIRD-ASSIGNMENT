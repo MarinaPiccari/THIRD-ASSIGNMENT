{
 "cells": [
  {
   "cell_type": "markdown",
   "metadata": {},
   "source": [
    "# Merge two sorted arrays\n",
    "#### Marina Piccari\n",
    "#### 1904900"
   ]
  },
  {
   "cell_type": "code",
   "execution_count": null,
   "metadata": {},
   "outputs": [],
   "source": [
    "with open ('rosalind_mer.txt', 'r') as f:\n",
    "    n = int(f.readline())\n",
    "    a = list(map(int, f.readline().split()))\n",
    "    m = int(f.readline())\n",
    "    b = list(map(int, f.readline().split()))\n",
    "    L = []\n",
    "    for i in range(n):\n",
    "        L.append(a[i])\n",
    "    for j in range(m):\n",
    "        L.append(b[j])\n",
    "    for x in range(0, len(L)):\n",
    "        for y in range(0, len(L) - x - 1):\n",
    "            if L[y] > L[y+1]:\n",
    "                temp = L[y]\n",
    "                L[y] = L[y+1]\n",
    "                L[y+1] = temp\n",
    "    print (*L)"
   ]
  }
 ],
 "metadata": {
  "kernelspec": {
   "display_name": "Python 3",
   "language": "python",
   "name": "python3"
  },
  "language_info": {
   "codemirror_mode": {
    "name": "ipython",
    "version": 3
   },
   "file_extension": ".py",
   "mimetype": "text/x-python",
   "name": "python",
   "nbconvert_exporter": "python",
   "pygments_lexer": "ipython3",
   "version": "3.8.3"
  }
 },
 "nbformat": 4,
 "nbformat_minor": 4
}
