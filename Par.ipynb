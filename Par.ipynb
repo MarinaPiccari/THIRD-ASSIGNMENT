{
 "cells": [
  {
   "cell_type": "markdown",
   "metadata": {},
   "source": [
    "# 2-way partition\n",
    "#### Marina Piccari\n",
    "#### 1904900"
   ]
  },
  {
   "cell_type": "code",
   "execution_count": null,
   "metadata": {},
   "outputs": [],
   "source": [
    "with open ('rosalind_par.txt', 'r') as f:\n",
    "    n = int(f.readline())\n",
    "    A = list(map(int, f.readline().split()))\n",
    "    B = []\n",
    "    x = A[0]\n",
    "    B.append(x)\n",
    "    for i in range(1, n):\n",
    "        if A[i] > x:\n",
    "            B.append(A[i])\n",
    "        else:\n",
    "            B.insert(0, A[i])\n",
    "    print (*B)"
   ]
  }
 ],
 "metadata": {
  "kernelspec": {
   "display_name": "Python 3",
   "language": "python",
   "name": "python3"
  },
  "language_info": {
   "codemirror_mode": {
    "name": "ipython",
    "version": 3
   },
   "file_extension": ".py",
   "mimetype": "text/x-python",
   "name": "python",
   "nbconvert_exporter": "python",
   "pygments_lexer": "ipython3",
   "version": "3.8.3"
  }
 },
 "nbformat": 4,
 "nbformat_minor": 4
}
