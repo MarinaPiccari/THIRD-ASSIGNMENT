{
 "cells": [
  {
   "cell_type": "markdown",
   "metadata": {},
   "source": [
    "# 2 sum\n",
    "#### Marina Piccari\n",
    "#### 1904900"
   ]
  },
  {
   "cell_type": "code",
   "execution_count": 1,
   "metadata": {},
   "outputs": [
    {
     "name": "stdout",
     "output_type": "stream",
     "text": [
      "-1\n",
      "3668 3896\n",
      "3075 3162\n",
      "3391 5865\n",
      "1 7635\n",
      "4548 6803\n",
      "6 1418\n",
      "16 1343\n",
      "2 2422\n",
      "2551 4344\n",
      "2884 2895\n",
      "1 8079\n"
     ]
    }
   ],
   "source": [
    "with open('rosalind_2sum.txt', 'r') as f:\n",
    "    k, n = map(int, f.readline().split())\n",
    "    for x in range(k):          \n",
    "        A = list(map(int, f.readline().split()))\n",
    "        L = []\n",
    "        for i in range(n):\n",
    "            if len(L) == 0:\n",
    "                if -(A[i]) in A and -(A[i]) != 0:\n",
    "                    L.append(i+1)\n",
    "                    L.append(A.index(-A[i])+1)\n",
    "                elif -(A[i]) in A and -(A[i]) == 0:\n",
    "                    if 0 in A[i+1:]:\n",
    "                        L.append(i+1)\n",
    "                        y = A.index(-A[i], i+1)\n",
    "                        L.append(y+1)\n",
    "                    else:\n",
    "                        None\n",
    "                \n",
    "        if len(L) == 0:\n",
    "            L.append(-1)\n",
    "        print (*L)"
   ]
  },
  {
   "cell_type": "code",
   "execution_count": null,
   "metadata": {},
   "outputs": [],
   "source": []
  }
 ],
 "metadata": {
  "kernelspec": {
   "display_name": "Python 3",
   "language": "python",
   "name": "python3"
  },
  "language_info": {
   "codemirror_mode": {
    "name": "ipython",
    "version": 3
   },
   "file_extension": ".py",
   "mimetype": "text/x-python",
   "name": "python",
   "nbconvert_exporter": "python",
   "pygments_lexer": "ipython3",
   "version": "3.8.3"
  }
 },
 "nbformat": 4,
 "nbformat_minor": 4
}
